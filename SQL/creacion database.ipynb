{
 "cells": [
  {
   "cell_type": "code",
   "execution_count": 14,
   "metadata": {},
   "outputs": [
    {
     "data": {
      "text/plain": [
       "9425"
      ]
     },
     "execution_count": 14,
     "metadata": {},
     "output_type": "execute_result"
    }
   ],
   "source": [
    "import mysql.connector\n",
    "import pandas as pd\n",
    "import sqlalchemy\n",
    "\n",
    "# Lee el archivo de Excel\n",
    "netflix = pd.read_excel(r\"Netflix Dataset Latest 2021.xlsx\")\n",
    "\n",
    "# Tu información de conexión a la base de datos\n",
    "hostname = \"localhost\"\n",
    "username = \"root\"\n",
    "password = \"root1234\"\n",
    "database_name = \"netflix\"\n",
    "\n",
    "# Conectar a MySQL\n",
    "mydb = mysql.connector.connect(\n",
    "    host=hostname,\n",
    "    user=username,\n",
    "    password=password\n",
    ")\n",
    "\n",
    "# Crear la base de datos si no existe\n",
    "mycursor = mydb.cursor()\n",
    "mycursor.execute(\"CREATE DATABASE IF NOT EXISTS {}\".format(database_name))\n",
    "\n",
    "# Cambiar a la base de datos 'netflix'\n",
    "mycursor.execute(\"USE {}\".format(database_name))\n",
    "\n",
    "# Crear un motor de conexión sqlalchemy\n",
    "engine = sqlalchemy.create_engine('mysql+mysqlconnector://{0}:{1}@{2}/{3}'.format(username, password, hostname, database_name))\n",
    "\n",
    "# Guardar el DataFrame en la base de datos como una tabla llamada 'netflix_data'\n",
    "netflix.to_sql('netflix_data', con=engine, if_exists='replace', index=False)\n",
    "\n",
    "# Confirmar los cambios y cerrar la conexión\n",
    "mydb.commit()\n",
    "mydb.close()\n",
    "\n",
    "\n",
    "from sqlalchemy import Table, Column, String, Float, DateTime, Text\n",
    "\n",
    "# Create the metadata object\n",
    "metadata = sqlalchemy.MetaData()\n",
    "\n",
    "\n",
    "# Define the table schema\n",
    "table_schema = Table(\n",
    "    \"netflix_table\",\n",
    "    metadata,\n",
    "    Column(\"Title\", String(255)),\n",
    "    Column(\"Genre\", String(255)),\n",
    "    Column(\"Tags\", String(255)),\n",
    "    Column(\"Languages\", String(255)),\n",
    "    Column(\"Series_or_Movie\", String(255)),\n",
    "    Column(\"Hidden_Gem_Score\", Float),\n",
    "    Column(\"Country_Availability\", String(255)),\n",
    "    Column(\"Runtime\", String(255)),\n",
    "    Column(\"Director\", String(255)),\n",
    "    Column(\"Writer\", String(255)),\n",
    "    Column(\"Actors\", String(255)),\n",
    "    Column(\"View_Rating\", String(255)),\n",
    "    Column(\"IMDb_Score\", Float),\n",
    "    Column(\"Rotten_Tomatoes_Score\", Float),\n",
    "    Column(\"Metacritic_Score\", Float),\n",
    "    Column(\"Awards_Received\", Float),\n",
    "    Column(\"Awards_Nominated_For\", Float),\n",
    "    Column(\"Boxoffice\", Float),\n",
    "    Column(\"Release_Date\", DateTime),\n",
    "    Column(\"Netflix_Release_Date\", DateTime),\n",
    "    Column(\"Production_House\", String(255)),\n",
    "    Column(\"Netflix_Link\", String(255)),\n",
    "    Column(\"IMDb_Link\", String(255)),\n",
    "    Column(\"Summary\", Text),\n",
    "    Column(\"IMDb_Votes\", Float),\n",
    ")\n",
    "engine = sqlalchemy.create_engine(\n",
    "    f\"mysql+pymysql://{username}:{password}@{hostname}/{database_name}\")\n",
    "\n",
    "# Upload the DataFrame to the table\n",
    "netflix.to_sql(\"netflix_table\", engine, index=False)"
   ]
  }
 ],
 "metadata": {
  "kernelspec": {
   "display_name": "Python 3",
   "language": "python",
   "name": "python3"
  },
  "language_info": {
   "codemirror_mode": {
    "name": "ipython",
    "version": 3
   },
   "file_extension": ".py",
   "mimetype": "text/x-python",
   "name": "python",
   "nbconvert_exporter": "python",
   "pygments_lexer": "ipython3",
   "version": "3.12.2"
  }
 },
 "nbformat": 4,
 "nbformat_minor": 2
}
