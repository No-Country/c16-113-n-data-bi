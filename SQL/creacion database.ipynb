{
 "cells": [
  {
   "cell_type": "code",
   "execution_count": 9,
   "metadata": {},
   "outputs": [
    {
     "name": "stdout",
     "output_type": "stream",
     "text": [
      "Requirement already satisfied: mysql-connector-python in c:\\users\\herna\\appdata\\local\\packages\\pythonsoftwarefoundation.python.3.11_qbz5n2kfra8p0\\localcache\\local-packages\\python311\\site-packages (8.3.0)\n",
      "Note: you may need to restart the kernel to use updated packages.\n"
     ]
    },
    {
     "name": "stderr",
     "output_type": "stream",
     "text": [
      "\n",
      "[notice] A new release of pip is available: 23.1.2 -> 24.0\n",
      "[notice] To update, run: C:\\Users\\herna\\AppData\\Local\\Microsoft\\WindowsApps\\PythonSoftwareFoundation.Python.3.11_qbz5n2kfra8p0\\python.exe -m pip install --upgrade pip\n"
     ]
    }
   ],
   "source": [
    "pip install mysql-connector-python\n"
   ]
  },
  {
   "cell_type": "code",
   "execution_count": 10,
   "metadata": {},
   "outputs": [
    {
     "name": "stdout",
     "output_type": "stream",
     "text": [
      "Collecting SQLAlchemy\n",
      "  Downloading SQLAlchemy-2.0.27-cp311-cp311-win_amd64.whl (2.1 MB)\n",
      "                                              0.0/2.1 MB ? eta -:--:--\n",
      "                                              0.0/2.1 MB ? eta -:--:--\n",
      "                                              0.0/2.1 MB 320.0 kB/s eta 0:00:07\n",
      "                                              0.1/2.1 MB 435.7 kB/s eta 0:00:05\n",
      "     --                                       0.1/2.1 MB 1.1 MB/s eta 0:00:02\n",
      "     ----------                               0.5/2.1 MB 3.0 MB/s eta 0:00:01\n",
      "     -----------------                        0.9/2.1 MB 4.5 MB/s eta 0:00:01\n",
      "     ----------------------------             1.5/2.1 MB 6.1 MB/s eta 0:00:01\n",
      "     -----------------------------------      1.8/2.1 MB 6.8 MB/s eta 0:00:01\n",
      "     ---------------------------------------- 2.1/2.1 MB 6.9 MB/s eta 0:00:00\n",
      "Requirement already satisfied: typing-extensions>=4.6.0 in c:\\users\\herna\\appdata\\local\\packages\\pythonsoftwarefoundation.python.3.11_qbz5n2kfra8p0\\localcache\\local-packages\\python311\\site-packages (from SQLAlchemy) (4.9.0)\n",
      "Collecting greenlet!=0.4.17 (from SQLAlchemy)\n",
      "  Downloading greenlet-3.0.3-cp311-cp311-win_amd64.whl (292 kB)\n",
      "                                              0.0/292.8 kB ? eta -:--:--\n",
      "     -------------------------------------- 292.8/292.8 kB 8.8 MB/s eta 0:00:00\n",
      "Installing collected packages: greenlet, SQLAlchemy\n",
      "Successfully installed SQLAlchemy-2.0.27 greenlet-3.0.3\n",
      "Note: you may need to restart the kernel to use updated packages.\n"
     ]
    },
    {
     "name": "stderr",
     "output_type": "stream",
     "text": [
      "\n",
      "[notice] A new release of pip is available: 23.1.2 -> 24.0\n",
      "[notice] To update, run: C:\\Users\\herna\\AppData\\Local\\Microsoft\\WindowsApps\\PythonSoftwareFoundation.Python.3.11_qbz5n2kfra8p0\\python.exe -m pip install --upgrade pip\n"
     ]
    }
   ],
   "source": [
    "pip install SQLAlchemy"
   ]
  },
  {
   "cell_type": "code",
   "execution_count": 18,
   "metadata": {},
   "outputs": [
    {
     "name": "stdout",
     "output_type": "stream",
     "text": [
      "Collecting PyMySQL\n",
      "  Downloading PyMySQL-1.1.0-py3-none-any.whl (44 kB)\n",
      "                                              0.0/44.8 kB ? eta -:--:--\n",
      "     ---------                                10.2/44.8 kB ? eta -:--:--\n",
      "     --------------------------             30.7/44.8 kB 325.1 kB/s eta 0:00:01\n",
      "     -------------------------------------- 44.8/44.8 kB 367.3 kB/s eta 0:00:00\n",
      "Installing collected packages: PyMySQL\n",
      "Successfully installed PyMySQL-1.1.0\n",
      "Note: you may need to restart the kernel to use updated packages.\n"
     ]
    },
    {
     "name": "stderr",
     "output_type": "stream",
     "text": [
      "\n",
      "[notice] A new release of pip is available: 23.1.2 -> 24.0\n",
      "[notice] To update, run: C:\\Users\\herna\\AppData\\Local\\Microsoft\\WindowsApps\\PythonSoftwareFoundation.Python.3.11_qbz5n2kfra8p0\\python.exe -m pip install --upgrade pip\n"
     ]
    }
   ],
   "source": [
    "pip install PyMySQL"
   ]
  },
  {
   "cell_type": "code",
   "execution_count": 19,
   "metadata": {},
   "outputs": [
    {
     "data": {
      "text/plain": [
       "9425"
      ]
     },
     "execution_count": 19,
     "metadata": {},
     "output_type": "execute_result"
    }
   ],
   "source": [
    "import mysql.connector\n",
    "import pandas as pd\n",
    "import sqlalchemy\n",
    "import pymysql\n",
    "\n",
    "# Lee el archivo de Excel\n",
    "netflix = pd.read_excel(r\"inserte path de archivo .xlsx\")\n",
    "\n",
    "# Tu información de conexión a la base de datos\n",
    "hostname = \"localhost\"\n",
    "username = \"root\"\n",
    "password = \"Br34ks7uff??\"\n",
    "database_name = \"netflix\"\n",
    "\n",
    "# Conectar a MySQL\n",
    "mydb = mysql.connector.connect(\n",
    "    host=hostname,\n",
    "    user=username,\n",
    "    password=password\n",
    ")\n",
    "\n",
    "# Crear la base de datos si no existe\n",
    "mycursor = mydb.cursor()\n",
    "mycursor.execute(\"CREATE DATABASE IF NOT EXISTS {}\".format(database_name))\n",
    "\n",
    "# Cambiar a la base de datos 'netflix'\n",
    "mycursor.execute(\"USE {}\".format(database_name))\n",
    "\n",
    "# Crear un motor de conexión sqlalchemy\n",
    "engine = sqlalchemy.create_engine('mysql+mysqlconnector://{0}:{1}@{2}/{3}'.format(username, password, hostname, database_name))\n",
    "\n",
    "# Guardar el DataFrame en la base de datos como una tabla llamada 'netflix_data'\n",
    "netflix.to_sql('netflix_data', con=engine, if_exists='replace', index=False)\n",
    "\n",
    "# Confirmar los cambios y cerrar la conexión\n",
    "mydb.commit()\n",
    "mydb.close()\n",
    "\n",
    "\n",
    "from sqlalchemy import Table, Column, String, Float, DateTime, Text\n",
    "\n",
    "# Create the metadata object\n",
    "metadata = sqlalchemy.MetaData()\n",
    "\n",
    "\n",
    "# Define the table schema\n",
    "table_schema = Table(\n",
    "    \"netflix_table\",\n",
    "    metadata,\n",
    "    Column(\"Title\", String(255)),\n",
    "    Column(\"Genre\", String(255)),\n",
    "    Column(\"Tags\", String(255)),\n",
    "    Column(\"Languages\", String(255)),\n",
    "    Column(\"Series_or_Movie\", String(255)),\n",
    "    Column(\"Hidden_Gem_Score\", Float),\n",
    "    Column(\"Country_Availability\", String(255)),\n",
    "    Column(\"Runtime\", String(255)),\n",
    "    Column(\"Director\", String(255)),\n",
    "    Column(\"Writer\", String(255)),\n",
    "    Column(\"Actors\", String(255)),\n",
    "    Column(\"View_Rating\", String(255)),\n",
    "    Column(\"IMDb_Score\", Float),\n",
    "    Column(\"Rotten_Tomatoes_Score\", Float),\n",
    "    Column(\"Metacritic_Score\", Float),\n",
    "    Column(\"Awards_Received\", Float),\n",
    "    Column(\"Awards_Nominated_For\", Float),\n",
    "    Column(\"Boxoffice\", Float),\n",
    "    Column(\"Release_Date\", DateTime),\n",
    "    Column(\"Netflix_Release_Date\", DateTime),\n",
    "    Column(\"Production_House\", String(255)),\n",
    "    Column(\"Netflix_Link\", String(255)),\n",
    "    Column(\"IMDb_Link\", String(255)),\n",
    "    Column(\"Summary\", Text),\n",
    "    Column(\"IMDb_Votes\", Float),\n",
    ")\n",
    "engine = sqlalchemy.create_engine(\n",
    "    f\"mysql+pymysql://{username}:{password}@{hostname}/{database_name}\")\n",
    "\n",
    "# Upload the DataFrame to the table\n",
    "netflix.to_sql(\"netflix_table\", engine, index=False)"
   ]
  }
 ],
 "metadata": {
  "kernelspec": {
   "display_name": "Python 3",
   "language": "python",
   "name": "python3"
  },
  "language_info": {
   "codemirror_mode": {
    "name": "ipython",
    "version": 3
   },
   "file_extension": ".py",
   "mimetype": "text/x-python",
   "name": "python",
   "nbconvert_exporter": "python",
   "pygments_lexer": "ipython3",
   "version": "3.11.8"
  }
 },
 "nbformat": 4,
 "nbformat_minor": 2
}
