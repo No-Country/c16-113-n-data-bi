{
 "cells": [
  {
   "cell_type": "code",
   "execution_count": 4,
   "metadata": {},
   "outputs": [
    {
     "name": "stdout",
     "output_type": "stream",
     "text": [
      "Tabla netflix_table eliminada con éxito\n"
     ]
    },
    {
     "data": {
      "text/plain": [
       "9425"
      ]
     },
     "execution_count": 4,
     "metadata": {},
     "output_type": "execute_result"
    }
   ],
   "source": [
    "import mysql.connector\n",
    "import pandas as pd\n",
    "import sqlalchemy\n",
    "\n",
    "netflix = pd.read_excel(\"Netflix Dataset Latest 2021.xlsx\")\n",
    "\n",
    "# Tu información de conexión a la base de datos\n",
    "hostname = \"bfdehrgcxcsyt5xnpchs-mysql.services.clever-cloud.com\"\n",
    "username = \"uejock9ipcillxlu\"\n",
    "password = \"iJ0eaKoST3btFt2oOD7j\"\n",
    "database_name = \"bfdehrgcxcsyt5xnpchs\"\n",
    "\n",
    "# Conectar a la base de datos\n",
    "mydb = mysql.connector.connect(\n",
    "    host=hostname,\n",
    "    user=username,\n",
    "    password=password,\n",
    "    database=database_name\n",
    ")\n",
    "\n",
    "# Crear un cursor\n",
    "mycursor = mydb.cursor()\n",
    "\n",
    "# Ejecutar la sentencia DROP TABLE\n",
    "sql = \"DROP TABLE netflix_table;\"\n",
    "mycursor.execute(sql)\n",
    "\n",
    "# Confirmar los cambios\n",
    "mydb.commit()\n",
    "\n",
    "# Cerrar la conexión\n",
    "print(\"Tabla netflix_table eliminada con éxito\")\n",
    "mydb.close()\n",
    "\n",
    "\n",
    "from sqlalchemy import Table, Column, String, Float, DateTime, Text\n",
    "\n",
    "# Create the metadata object\n",
    "metadata = sqlalchemy.MetaData()\n",
    "\n",
    "\n",
    "# Define the table schema\n",
    "table_schema = Table(\n",
    "    \"netflix_table\",\n",
    "    metadata,\n",
    "    Column(\"Title\", String(255)),\n",
    "    Column(\"Genre\", String(255)),\n",
    "    Column(\"Tags\", String(255)),\n",
    "    Column(\"Languages\", String(255)),\n",
    "    Column(\"Series_or_Movie\", String(255)),\n",
    "    Column(\"Hidden_Gem_Score\", Float),\n",
    "    Column(\"Country_Availability\", String(255)),\n",
    "    Column(\"Runtime\", String(255)),\n",
    "    Column(\"Director\", String(255)),\n",
    "    Column(\"Writer\", String(255)),\n",
    "    Column(\"Actors\", String(255)),\n",
    "    Column(\"View_Rating\", String(255)),\n",
    "    Column(\"IMDb_Score\", Float),\n",
    "    Column(\"Rotten_Tomatoes_Score\", Float),\n",
    "    Column(\"Metacritic_Score\", Float),\n",
    "    Column(\"Awards_Received\", Float),\n",
    "    Column(\"Awards_Nominated_For\", Float),\n",
    "    Column(\"Boxoffice\", Float),\n",
    "    Column(\"Release_Date\", DateTime),\n",
    "    Column(\"Netflix_Release_Date\", DateTime),\n",
    "    Column(\"Production_House\", String(255)),\n",
    "    Column(\"Netflix_Link\", String(255)),\n",
    "    Column(\"IMDb_Link\", String(255)),\n",
    "    Column(\"Summary\", Text),\n",
    "    Column(\"IMDb_Votes\", Float),\n",
    ")\n",
    "engine = sqlalchemy.create_engine(\n",
    "    f\"mysql+pymysql://{username}:{password}@{hostname}/{database_name}\")\n",
    "\n",
    "# Upload the DataFrame to the table\n",
    "netflix.to_sql(\"netflix_table\", engine, index=False)"
   ]
  }
 ],
 "metadata": {
  "kernelspec": {
   "display_name": "Python 3",
   "language": "python",
   "name": "python3"
  },
  "language_info": {
   "codemirror_mode": {
    "name": "ipython",
    "version": 3
   },
   "file_extension": ".py",
   "mimetype": "text/x-python",
   "name": "python",
   "nbconvert_exporter": "python",
   "pygments_lexer": "ipython3",
   "version": "3.11.7"
  }
 },
 "nbformat": 4,
 "nbformat_minor": 2
}
